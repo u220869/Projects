{
 "cells": [
  {
   "cell_type": "markdown",
   "metadata": {},
   "source": [
    "*M.A.H.C.L. van Riel,  \n",
    "[m.a.h.c.l.vanriel@tilburguniversity.edu](http://www.lifewithcats.tv/wp-content/uploads/2011/12/123.jpg)*  \n",
    "![](http://cdn.lowgif.com/small/5d31ab1f4d0cd3b6-rocket-ship-animated-gif-on-behance.gif \"\"Engage thrusters..!\"\")"
   ]
  },
  {
   "cell_type": "markdown",
   "metadata": {},
   "source": [
    "Onderzoeksproject Investeren en Beleggen 2018\n",
    "---\n",
    "___\n",
    "In deze Jupyter Notebook worden de gevonde gegevens voor de Mean en de Variance van Finse aandelen en een Finse Index geplot, voor het *onderzoeksproject Investeren en Beleggen*. Hierbij wordt gebruik gemaakt van de library `ggplot2`. Er wordt gekeken naar 18 verschillende bedrijven in steekproef van **31-05-2006** tot en met **31-01-2018**. Hierbij wordt de dataset onderverdeeld in twee periodes. In deze notebook wordt alleen de *vroege periode* bekeken. Dit is de periode van **31-05-2006** tot en met **31-05-2012**. \n",
    "___\n",
    "Aller eerst worden de eerste benodigde packeges geïmporteerd. Verderop in het notebook zullen er nog een aantal geïmporteerd worden. Om te beginnen importeren we:  \n",
    "* `readxl` om het excel bestand met de data te importeren.\n",
    "* `ggplot2` om de data te visualiseren volgens de *Gramar of Graphycs*.\n",
    "* `ggthemes` om de plot visueel te bewerken m.b.t. de achtergrond."
   ]
  },
  {
   "cell_type": "code",
   "execution_count": 88,
   "metadata": {},
   "outputs": [
    {
     "name": "stderr",
     "output_type": "stream",
     "text": [
      "Warning message:\n",
      "\"package 'ggthemes' is in use and will not be installed\""
     ]
    }
   ],
   "source": [
    "library(readxl)\n",
    "library(ggplot2)\n",
    "install.packages(\"ggthemes\") # Install \n",
    "library(ggthemes) # Load"
   ]
  },
  {
   "cell_type": "markdown",
   "metadata": {},
   "source": [
    "Data importeren\n",
    "---\n",
    "___\n",
    "Allereerst moet de benodigde data geïmporteerd worden. In dit geval staan onze gegevens in het bestand *\"FIN_returns.xlsx\"*. Het bestand wordt opgeslagen als `rendement`. Om de datapunten te kunnen identificeren, worden labels aangebracht die corresponderen met de data in het bestand *\"Code.xlsx\"*. Deze dataset wordt opgeslagen onder de naam `code`."
   ]
  },
  {
   "cell_type": "code",
   "execution_count": 89,
   "metadata": {},
   "outputs": [
    {
     "ename": "ERROR",
     "evalue": "Error in read_xlxs(\"../Sourcedata/FIN_returns.xlxs\"): could not find function \"read_xlxs\"\n",
     "output_type": "error",
     "traceback": [
      "Error in read_xlxs(\"../Sourcedata/FIN_returns.xlxs\"): could not find function \"read_xlxs\"\nTraceback:\n"
     ]
    }
   ],
   "source": [
    "rendement <- read_xlxs(\"../Sourcedata/FIN_returns.xlxs\")"
   ]
  },
  {
   "cell_type": "code",
   "execution_count": 90,
   "metadata": {},
   "outputs": [
    {
     "data": {
      "text/html": [
       "'C:/Users/s160015/Investeren en Beleggen/Sourcedata'"
      ],
      "text/latex": [
       "'C:/Users/s160015/Investeren en Beleggen/Sourcedata'"
      ],
      "text/markdown": [
       "'C:/Users/s160015/Investeren en Beleggen/Sourcedata'"
      ],
      "text/plain": [
       "[1] \"C:/Users/s160015/Investeren en Beleggen/Sourcedata\""
      ]
     },
     "metadata": {},
     "output_type": "display_data"
    }
   ],
   "source": [
    "getwd()"
   ]
  },
  {
   "cell_type": "code",
   "execution_count": 91,
   "metadata": {},
   "outputs": [],
   "source": [
    "setwd('C:/Users/s160015/Investeren en Beleggen/Sourcedata')"
   ]
  },
  {
   "cell_type": "code",
   "execution_count": 92,
   "metadata": {},
   "outputs": [],
   "source": [
    "rendement <- read_xlsx(\"../Sourcedata/FIN_returns.xlsx\")\n",
    "code <- read_xlsx(\"../Sourcedata/Code.xlsx\")"
   ]
  },
  {
   "cell_type": "code",
   "execution_count": 93,
   "metadata": {},
   "outputs": [],
   "source": [
    "?ggplot2"
   ]
  },
  {
   "cell_type": "markdown",
   "metadata": {},
   "source": [
    "Om te kunnen werken met de spreadsheets van excel, moeten de datasets omgezet worden tot dataframes. Dit wordt gedaan door het commando `data.frame()`. Van beide bestanden `rendement` en `code`, maken we een dataframe `rendement_df` en `code_df` respectievelijk. "
   ]
  },
  {
   "cell_type": "code",
   "execution_count": 94,
   "metadata": {},
   "outputs": [
    {
     "data": {
      "text/html": [
       "<table>\n",
       "<thead><tr><th scope=col>Average</th><th scope=col>Standard.Deviation</th><th scope=col>Standard.Error</th><th scope=col>Minimum</th><th scope=col>Maximum</th></tr></thead>\n",
       "<tbody>\n",
       "\t<tr><td> 0.002409486</td><td>0.11429515  </td><td>0.013469812 </td><td>-0.3769575  </td><td>0.4761905   </td></tr>\n",
       "\t<tr><td> 0.002955322</td><td>0.06847045  </td><td>0.008069320 </td><td>-0.2174797  </td><td>0.1381346   </td></tr>\n",
       "\t<tr><td>-0.001108431</td><td>0.07360544  </td><td>0.008674484 </td><td>-0.1852385  </td><td>0.1627639   </td></tr>\n",
       "\t<tr><td>-0.006647790</td><td>0.15782371  </td><td>0.018599703 </td><td>-0.3715847  </td><td>0.7676768   </td></tr>\n",
       "\t<tr><td> 0.009594083</td><td>0.11807704  </td><td>0.013915513 </td><td>-0.2654773  </td><td>0.2847996   </td></tr>\n",
       "\t<tr><td> 0.016322100</td><td>0.07488831  </td><td>0.008825672 </td><td>-0.1414241  </td><td>0.3390931   </td></tr>\n",
       "\t<tr><td> 0.005144319</td><td>0.19144133  </td><td>0.022561577 </td><td>-0.4660194  </td><td>0.9615385   </td></tr>\n",
       "\t<tr><td> 0.008411766</td><td>0.13168629  </td><td>0.015519378 </td><td>-0.3930836  </td><td>0.3168755   </td></tr>\n",
       "\t<tr><td>-0.021706697</td><td>0.11135439  </td><td>0.013123241 </td><td>-0.3350909  </td><td>0.2308433   </td></tr>\n",
       "\t<tr><td> 0.002139971</td><td>0.10440717  </td><td>0.012304503 </td><td>-0.2295423  </td><td>0.5214724   </td></tr>\n",
       "\t<tr><td>-0.012696716</td><td>0.14565217  </td><td>0.017165273 </td><td>-0.3264887  </td><td>0.3961039   </td></tr>\n",
       "\t<tr><td> 0.005329535</td><td>0.06944655  </td><td>0.008184354 </td><td>-0.1693957  </td><td>0.2796097   </td></tr>\n",
       "\t<tr><td>-0.005278573</td><td>0.12651889  </td><td>0.014910394 </td><td>-0.3080065  </td><td>0.6315789   </td></tr>\n",
       "\t<tr><td>-0.006066307</td><td>0.13065044  </td><td>0.015397302 </td><td>-0.3978495  </td><td>0.6466165   </td></tr>\n",
       "\t<tr><td>-0.002142192</td><td>0.11067070  </td><td>0.013042667 </td><td>-0.2426525  </td><td>0.2692018   </td></tr>\n",
       "\t<tr><td>-0.003552500</td><td>0.11635508  </td><td>0.013712577 </td><td>-0.2415780  </td><td>0.5708899   </td></tr>\n",
       "\t<tr><td> 0.014667281</td><td>0.12177291  </td><td>0.014351076 </td><td>-0.3291766  </td><td>0.5885753   </td></tr>\n",
       "\t<tr><td>-0.001878889</td><td>0.06657197  </td><td>0.007845582 </td><td>-0.1701539  </td><td>0.2549789   </td></tr>\n",
       "</tbody>\n",
       "</table>\n"
      ],
      "text/latex": [
       "\\begin{tabular}{r|lllll}\n",
       " Average & Standard.Deviation & Standard.Error & Minimum & Maximum\\\\\n",
       "\\hline\n",
       "\t  0.002409486 & 0.11429515   & 0.013469812  & -0.3769575   & 0.4761905   \\\\\n",
       "\t  0.002955322 & 0.06847045   & 0.008069320  & -0.2174797   & 0.1381346   \\\\\n",
       "\t -0.001108431 & 0.07360544   & 0.008674484  & -0.1852385   & 0.1627639   \\\\\n",
       "\t -0.006647790 & 0.15782371   & 0.018599703  & -0.3715847   & 0.7676768   \\\\\n",
       "\t  0.009594083 & 0.11807704   & 0.013915513  & -0.2654773   & 0.2847996   \\\\\n",
       "\t  0.016322100 & 0.07488831   & 0.008825672  & -0.1414241   & 0.3390931   \\\\\n",
       "\t  0.005144319 & 0.19144133   & 0.022561577  & -0.4660194   & 0.9615385   \\\\\n",
       "\t  0.008411766 & 0.13168629   & 0.015519378  & -0.3930836   & 0.3168755   \\\\\n",
       "\t -0.021706697 & 0.11135439   & 0.013123241  & -0.3350909   & 0.2308433   \\\\\n",
       "\t  0.002139971 & 0.10440717   & 0.012304503  & -0.2295423   & 0.5214724   \\\\\n",
       "\t -0.012696716 & 0.14565217   & 0.017165273  & -0.3264887   & 0.3961039   \\\\\n",
       "\t  0.005329535 & 0.06944655   & 0.008184354  & -0.1693957   & 0.2796097   \\\\\n",
       "\t -0.005278573 & 0.12651889   & 0.014910394  & -0.3080065   & 0.6315789   \\\\\n",
       "\t -0.006066307 & 0.13065044   & 0.015397302  & -0.3978495   & 0.6466165   \\\\\n",
       "\t -0.002142192 & 0.11067070   & 0.013042667  & -0.2426525   & 0.2692018   \\\\\n",
       "\t -0.003552500 & 0.11635508   & 0.013712577  & -0.2415780   & 0.5708899   \\\\\n",
       "\t  0.014667281 & 0.12177291   & 0.014351076  & -0.3291766   & 0.5885753   \\\\\n",
       "\t -0.001878889 & 0.06657197   & 0.007845582  & -0.1701539   & 0.2549789   \\\\\n",
       "\\end{tabular}\n"
      ],
      "text/markdown": [
       "\n",
       "Average | Standard.Deviation | Standard.Error | Minimum | Maximum | \n",
       "|---|---|---|---|---|---|---|---|---|---|---|---|---|---|---|---|---|---|\n",
       "|  0.002409486 | 0.11429515   | 0.013469812  | -0.3769575   | 0.4761905    | \n",
       "|  0.002955322 | 0.06847045   | 0.008069320  | -0.2174797   | 0.1381346    | \n",
       "| -0.001108431 | 0.07360544   | 0.008674484  | -0.1852385   | 0.1627639    | \n",
       "| -0.006647790 | 0.15782371   | 0.018599703  | -0.3715847   | 0.7676768    | \n",
       "|  0.009594083 | 0.11807704   | 0.013915513  | -0.2654773   | 0.2847996    | \n",
       "|  0.016322100 | 0.07488831   | 0.008825672  | -0.1414241   | 0.3390931    | \n",
       "|  0.005144319 | 0.19144133   | 0.022561577  | -0.4660194   | 0.9615385    | \n",
       "|  0.008411766 | 0.13168629   | 0.015519378  | -0.3930836   | 0.3168755    | \n",
       "| -0.021706697 | 0.11135439   | 0.013123241  | -0.3350909   | 0.2308433    | \n",
       "|  0.002139971 | 0.10440717   | 0.012304503  | -0.2295423   | 0.5214724    | \n",
       "| -0.012696716 | 0.14565217   | 0.017165273  | -0.3264887   | 0.3961039    | \n",
       "|  0.005329535 | 0.06944655   | 0.008184354  | -0.1693957   | 0.2796097    | \n",
       "| -0.005278573 | 0.12651889   | 0.014910394  | -0.3080065   | 0.6315789    | \n",
       "| -0.006066307 | 0.13065044   | 0.015397302  | -0.3978495   | 0.6466165    | \n",
       "| -0.002142192 | 0.11067070   | 0.013042667  | -0.2426525   | 0.2692018    | \n",
       "| -0.003552500 | 0.11635508   | 0.013712577  | -0.2415780   | 0.5708899    | \n",
       "|  0.014667281 | 0.12177291   | 0.014351076  | -0.3291766   | 0.5885753    | \n",
       "| -0.001878889 | 0.06657197   | 0.007845582  | -0.1701539   | 0.2549789    | \n",
       "\n",
       "\n"
      ],
      "text/plain": [
       "   Average      Standard.Deviation Standard.Error Minimum    Maximum  \n",
       "1   0.002409486 0.11429515         0.013469812    -0.3769575 0.4761905\n",
       "2   0.002955322 0.06847045         0.008069320    -0.2174797 0.1381346\n",
       "3  -0.001108431 0.07360544         0.008674484    -0.1852385 0.1627639\n",
       "4  -0.006647790 0.15782371         0.018599703    -0.3715847 0.7676768\n",
       "5   0.009594083 0.11807704         0.013915513    -0.2654773 0.2847996\n",
       "6   0.016322100 0.07488831         0.008825672    -0.1414241 0.3390931\n",
       "7   0.005144319 0.19144133         0.022561577    -0.4660194 0.9615385\n",
       "8   0.008411766 0.13168629         0.015519378    -0.3930836 0.3168755\n",
       "9  -0.021706697 0.11135439         0.013123241    -0.3350909 0.2308433\n",
       "10  0.002139971 0.10440717         0.012304503    -0.2295423 0.5214724\n",
       "11 -0.012696716 0.14565217         0.017165273    -0.3264887 0.3961039\n",
       "12  0.005329535 0.06944655         0.008184354    -0.1693957 0.2796097\n",
       "13 -0.005278573 0.12651889         0.014910394    -0.3080065 0.6315789\n",
       "14 -0.006066307 0.13065044         0.015397302    -0.3978495 0.6466165\n",
       "15 -0.002142192 0.11067070         0.013042667    -0.2426525 0.2692018\n",
       "16 -0.003552500 0.11635508         0.013712577    -0.2415780 0.5708899\n",
       "17  0.014667281 0.12177291         0.014351076    -0.3291766 0.5885753\n",
       "18 -0.001878889 0.06657197         0.007845582    -0.1701539 0.2549789"
      ]
     },
     "metadata": {},
     "output_type": "display_data"
    },
    {
     "data": {
      "text/html": [
       "<table>\n",
       "<thead><tr><th scope=col>Code</th></tr></thead>\n",
       "<tbody>\n",
       "\t<tr><td>946457(PI)~E </td></tr>\n",
       "\t<tr><td>698783(PI)~E </td></tr>\n",
       "\t<tr><td>690351(PI)~E </td></tr>\n",
       "\t<tr><td>688027(PI)~E </td></tr>\n",
       "\t<tr><td>866457(PI)~E </td></tr>\n",
       "\t<tr><td>772959(PI)~E </td></tr>\n",
       "\t<tr><td>772967(PI)~E </td></tr>\n",
       "\t<tr><td>505967(PI)~E </td></tr>\n",
       "\t<tr><td>729882(PI)~E </td></tr>\n",
       "\t<tr><td>284310(PI)~E </td></tr>\n",
       "\t<tr><td>505135(PI)~E </td></tr>\n",
       "\t<tr><td>772753(PI)~E </td></tr>\n",
       "\t<tr><td>772943(PI)~E </td></tr>\n",
       "\t<tr><td>697173(PI)~E </td></tr>\n",
       "\t<tr><td>719741(PI)~E </td></tr>\n",
       "\t<tr><td>539717(PI)~E </td></tr>\n",
       "\t<tr><td>772963(PI)~E </td></tr>\n",
       "\t<tr><td>HEX25IN(PI)~E</td></tr>\n",
       "</tbody>\n",
       "</table>\n"
      ],
      "text/latex": [
       "\\begin{tabular}{r|l}\n",
       " Code\\\\\n",
       "\\hline\n",
       "\t 946457(PI)\\textasciitilde{}E \\\\\n",
       "\t 698783(PI)\\textasciitilde{}E \\\\\n",
       "\t 690351(PI)\\textasciitilde{}E \\\\\n",
       "\t 688027(PI)\\textasciitilde{}E \\\\\n",
       "\t 866457(PI)\\textasciitilde{}E \\\\\n",
       "\t 772959(PI)\\textasciitilde{}E \\\\\n",
       "\t 772967(PI)\\textasciitilde{}E \\\\\n",
       "\t 505967(PI)\\textasciitilde{}E \\\\\n",
       "\t 729882(PI)\\textasciitilde{}E \\\\\n",
       "\t 284310(PI)\\textasciitilde{}E \\\\\n",
       "\t 505135(PI)\\textasciitilde{}E \\\\\n",
       "\t 772753(PI)\\textasciitilde{}E \\\\\n",
       "\t 772943(PI)\\textasciitilde{}E \\\\\n",
       "\t 697173(PI)\\textasciitilde{}E \\\\\n",
       "\t 719741(PI)\\textasciitilde{}E \\\\\n",
       "\t 539717(PI)\\textasciitilde{}E \\\\\n",
       "\t 772963(PI)\\textasciitilde{}E \\\\\n",
       "\t HEX25IN(PI)\\textasciitilde{}E\\\\\n",
       "\\end{tabular}\n"
      ],
      "text/markdown": [
       "\n",
       "Code | \n",
       "|---|---|---|---|---|---|---|---|---|---|---|---|---|---|---|---|---|---|\n",
       "| 946457(PI)~E  | \n",
       "| 698783(PI)~E  | \n",
       "| 690351(PI)~E  | \n",
       "| 688027(PI)~E  | \n",
       "| 866457(PI)~E  | \n",
       "| 772959(PI)~E  | \n",
       "| 772967(PI)~E  | \n",
       "| 505967(PI)~E  | \n",
       "| 729882(PI)~E  | \n",
       "| 284310(PI)~E  | \n",
       "| 505135(PI)~E  | \n",
       "| 772753(PI)~E  | \n",
       "| 772943(PI)~E  | \n",
       "| 697173(PI)~E  | \n",
       "| 719741(PI)~E  | \n",
       "| 539717(PI)~E  | \n",
       "| 772963(PI)~E  | \n",
       "| HEX25IN(PI)~E | \n",
       "\n",
       "\n"
      ],
      "text/plain": [
       "   Code         \n",
       "1  946457(PI)~E \n",
       "2  698783(PI)~E \n",
       "3  690351(PI)~E \n",
       "4  688027(PI)~E \n",
       "5  866457(PI)~E \n",
       "6  772959(PI)~E \n",
       "7  772967(PI)~E \n",
       "8  505967(PI)~E \n",
       "9  729882(PI)~E \n",
       "10 284310(PI)~E \n",
       "11 505135(PI)~E \n",
       "12 772753(PI)~E \n",
       "13 772943(PI)~E \n",
       "14 697173(PI)~E \n",
       "15 719741(PI)~E \n",
       "16 539717(PI)~E \n",
       "17 772963(PI)~E \n",
       "18 HEX25IN(PI)~E"
      ]
     },
     "metadata": {},
     "output_type": "display_data"
    }
   ],
   "source": [
    "rendement_df <- data.frame(rendement)\n",
    "code_df <- data.frame(code)\n",
    "rendement_df\n",
    "code_df"
   ]
  },
  {
   "cell_type": "markdown",
   "metadata": {},
   "source": [
    "Data plotten\n",
    "---\n",
    "___\n",
    "Voordat de data geplot kan worden, moeten de volgende packeges geïmporteerd worden:\n",
    "* `tidyverse` alleen geïnstalleerd, niet geïmporteerd. Back-up voor `ggplot2`.\n",
    "* `ggrepel` om de labels duidelijk bij de punten weer te geven. "
   ]
  },
  {
   "cell_type": "code",
   "execution_count": null,
   "metadata": {},
   "outputs": [],
   "source": [
    "install.packages(\"tidyverse\")\n",
    "install.packages(\"ggrepel\")\n",
    "library(ggrepel)"
   ]
  },
  {
   "cell_type": "markdown",
   "metadata": {},
   "source": [
    "___\n",
    "Met behulp van `ggplot()` kan nu de data geplot worden. M.b.v. de geïmporteerde packeges kan de plot voorzien worden van kleur, labels, achtergrond, etc. Hieronder worden 3 verschillende plots gemaakt. De 1e twee verschillen lauter en alleen door de kleur van de data punten. De 3e heeft een correlatie lijn (niet de Mean-Variance-Frontier !!) met standaard error vlak rond om.  \n",
    "Door het gebruik van `ggsave()` kan de plot opgeslagen worden als png, jpg, etc. om zo te gebruiken in het raport. \n",
    "___"
   ]
  },
  {
   "cell_type": "code",
   "execution_count": 84,
   "metadata": {},
   "outputs": [
    {
     "name": "stderr",
     "output_type": "stream",
     "text": [
      "Don't know how to automatically pick scale for object of type data.frame. Defaulting to continuous.\n"
     ]
    },
    {
     "data": {},
     "metadata": {},
     "output_type": "display_data"
    },
    {
     "name": "stderr",
     "output_type": "stream",
     "text": [
      "Saving 6.67 x 6.67 in image\n",
      "Don't know how to automatically pick scale for object of type data.frame. Defaulting to continuous.\n"
     ]
    },
    {
     "data": {
      "image/png": "[encoded data removed]",
      "text/plain": [
       "plot without title"
      ]
     },
     "metadata": {},
     "output_type": "display_data"
    }
   ],
   "source": [
    "plot_darkred <- ggplot(rendement_df, aes(Standard.Deviation, Average)) +\n",
    "geom_point(col = \"darkred\") +\n",
    "geom_text_repel(aes(label = code_df),size = 2, col = \"black\") +\n",
    "scale_y_continuous(\"Expected Rate of Return (E(r))\",\n",
    "                   limits = c(-0.025, 0.02)) +\n",
    "scale_x_continuous(\"Volatility (sigma)\",\n",
    "                   limits = c(0, 0.20)) +\n",
    "theme_bw() +\n",
    "theme(panel.grid.major = element_line(size = 0.5, linetype = 'solid',\n",
    "                                colour = \"lightblue\"),\n",
    "      panel.grid.minor = element_line(size = 0.1, linetype = 'dashed')) +\n",
    "ggtitle(\"Mean-Variance\")\n",
    "plot_darkred\n",
    "ggsave(\"Mean-Variance_plot.jpg\")"
   ]
  },
  {
   "cell_type": "code",
   "execution_count": 70,
   "metadata": {},
   "outputs": [
    {
     "name": "stderr",
     "output_type": "stream",
     "text": [
      "Don't know how to automatically pick scale for object of type data.frame. Defaulting to continuous.\n"
     ]
    },
    {
     "data": {},
     "metadata": {},
     "output_type": "display_data"
    },
    {
     "data": {
      "image/png": "[encoded data removed]",
      "text/plain": [
       "plot without title"
      ]
     },
     "metadata": {},
     "output_type": "display_data"
    }
   ],
   "source": [
    "plot_red <- ggplot(rendement_df, aes(Standard.Deviation, Average)) +\n",
    "geom_point(col = \"red\") +\n",
    "geom_text_repel(aes(label = code_df),size = 2, col = \"black\") +\n",
    "scale_y_continuous(\"Expected Rate of Return (E(r))\",\n",
    "                   limits = c(-0.025, 0.02)) +\n",
    "scale_x_continuous(\"Volatility (sigma)\",\n",
    "                   limits = c(0, 0.20)) +\n",
    "theme_bw() +\n",
    "theme(panel.grid.major = element_line(size = 0.5, linetype = 'solid',\n",
    "                                colour = \"lightblue\"),\n",
    "      panel.grid.minor = element_line(size = 0.1, linetype = 'dashed')) +\n",
    "ggtitle(\"Mean-Variance\")\n",
    "plot_red"
   ]
  },
  {
   "cell_type": "code",
   "execution_count": 82,
   "metadata": {},
   "outputs": [
    {
     "name": "stderr",
     "output_type": "stream",
     "text": [
      "Don't know how to automatically pick scale for object of type data.frame. Defaulting to continuous.\n"
     ]
    },
    {
     "data": {},
     "metadata": {},
     "output_type": "display_data"
    },
    {
     "data": {
      "image/png": "[encoded data removed]",
      "text/plain": [
       "plot without title"
      ]
     },
     "metadata": {},
     "output_type": "display_data"
    }
   ],
   "source": [
    "plot_darkred +\n",
    "stat_smooth(method = 'lm', colour = \"cyan\", size = .75, linetype = 'dashed')"
   ]
  },
  {
   "cell_type": "code",
   "execution_count": 83,
   "metadata": {},
   "outputs": [
    {
     "name": "stderr",
     "output_type": "stream",
     "text": [
      "Saving 6.67 x 6.67 in image\n",
      "Don't know how to automatically pick scale for object of type data.frame. Defaulting to continuous.\n"
     ]
    }
   ],
   "source": [
    "ggsave(\"Mean-Variance plot.png\")"
   ]
  }
 ],
 "metadata": {
  "kernelspec": {
   "display_name": "R",
   "language": "R",
   "name": "ir"
  },
  "language_info": {
   "codemirror_mode": "r",
   "file_extension": ".r",
   "mimetype": "text/x-r-source",
   "name": "R",
   "pygments_lexer": "r",
   "version": "3.4.3"
  }
 },
 "nbformat": 4,
 "nbformat_minor": 2
}

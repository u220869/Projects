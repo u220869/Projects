{
 "cells": [
  {
   "cell_type": "markdown",
   "metadata": {},
   "source": [
    "# Beta's en Security Market Line\n",
    "___\n",
    "In deze notebook worden de Beta's van de Finse aandelen gevisualiseerd, en wordt er aan de hand van deze Beta's een SML opgesteld. Om dit te doen worden eerst de benodigde packeges geïmporteerd.\n",
    "___"
   ]
  },
  {
   "cell_type": "code",
   "execution_count": 1,
   "metadata": {},
   "outputs": [
    {
     "name": "stdout",
     "output_type": "stream",
     "text": [
      "package 'ggthemes' successfully unpacked and MD5 sums checked\n",
      "\n",
      "The downloaded binary packages are in\n",
      "\tC:\\Users\\s160015\\AppData\\Local\\Temp\\RtmpMpEXFE\\downloaded_packages\n",
      "package 'tidyverse' successfully unpacked and MD5 sums checked\n",
      "\n",
      "The downloaded binary packages are in\n",
      "\tC:\\Users\\s160015\\AppData\\Local\\Temp\\RtmpMpEXFE\\downloaded_packages\n",
      "package 'ggrepel' successfully unpacked and MD5 sums checked\n",
      "\n",
      "The downloaded binary packages are in\n",
      "\tC:\\Users\\s160015\\AppData\\Local\\Temp\\RtmpMpEXFE\\downloaded_packages\n"
     ]
    }
   ],
   "source": [
    "library(readxl)\n",
    "library(ggplot2)\n",
    "install.packages(\"ggthemes\") # Install \n",
    "library(ggthemes) # Load\n",
    "install.packages(\"tidyverse\")\n",
    "install.packages(\"ggrepel\")\n",
    "library(ggrepel)"
   ]
  },
  {
   "cell_type": "markdown",
   "metadata": {},
   "source": [
    "Importeren van de data\n",
    "---\n",
    "___\n",
    "Om de plot te kunnen maken, worden er twee dataframes gemaakt. als eerste wordt `beta_df` gemaakt. Hierin staan de aandelen codes, de verwachte rendementen en de Beta's van alle aandelen. Het tweede dataframe is `code_df`. Hierin staat de 1e collom van `beta_df`. `code_df` wordt gebruikt om de plot van labels te voorzien.\n",
    "___"
   ]
  },
  {
   "cell_type": "code",
   "execution_count": 2,
   "metadata": {},
   "outputs": [],
   "source": [
    "beta = read_xlsx(\"../Sourcedata/BETA.xlsx\")\n",
    "beta_df = data.frame(beta)"
   ]
  },
  {
   "cell_type": "code",
   "execution_count": 3,
   "metadata": {},
   "outputs": [
    {
     "data": {
      "text/html": [
       "<table>\n",
       "<thead><tr><th scope=col>Code</th><th scope=col>E.ri.</th><th scope=col>Beta</th></tr></thead>\n",
       "<tbody>\n",
       "\t<tr><td>946457(PI)~E     </td><td> 0.002409486     </td><td>-0.1748581       </td></tr>\n",
       "\t<tr><td>698783(PI)~E     </td><td> 0.002955322     </td><td>-0.3243972       </td></tr>\n",
       "\t<tr><td>690351(PI)~E     </td><td>-0.001108431     </td><td> 0.7889227       </td></tr>\n",
       "\t<tr><td>688027(PI)~E     </td><td>-0.006647790     </td><td> 2.3065046       </td></tr>\n",
       "\t<tr><td>866457(PI)~E     </td><td> 0.009594083     </td><td>-2.1431752       </td></tr>\n",
       "\t<tr><td>772959(PI)~E     </td><td> 0.016322100     </td><td>-3.9864058       </td></tr>\n",
       "\t<tr><td>772967(PI)~E     </td><td> 0.005144319     </td><td>-0.9241024       </td></tr>\n",
       "\t<tr><td>505967(PI)~E     </td><td> 0.008411766     </td><td>-1.8192634       </td></tr>\n",
       "\t<tr><td>729882(PI)~E     </td><td>-0.021706697     </td><td> 6.4320950       </td></tr>\n",
       "\t<tr><td>284310(PI)~E     </td><td> 0.002139971     </td><td>-0.1010207       </td></tr>\n",
       "\t<tr><td>505135(PI)~E     </td><td>-0.012696716     </td><td> 3.9636893       </td></tr>\n",
       "\t<tr><td>772753(PI)~E     </td><td> 0.005329535     </td><td>-0.9748448       </td></tr>\n",
       "\t<tr><td>772943(PI)~E     </td><td>-0.005278573     </td><td> 1.9313893       </td></tr>\n",
       "\t<tr><td>697173(PI)~E     </td><td>-0.006066307     </td><td> 2.1471994       </td></tr>\n",
       "\t<tr><td>719741(PI)~E     </td><td>-0.002142192     </td><td> 1.0721353       </td></tr>\n",
       "\t<tr><td>539717(PI)~E     </td><td>-0.003552500     </td><td> 1.4585082       </td></tr>\n",
       "\t<tr><td>772963(PI)~E     </td><td> 0.014667281     </td><td>-3.5330458       </td></tr>\n",
       "\t<tr><td>Marktportefeuille</td><td>-0.001878889     </td><td> 1.0000000       </td></tr>\n",
       "</tbody>\n",
       "</table>\n"
      ],
      "text/latex": [
       "\\begin{tabular}{r|lll}\n",
       " Code & E.ri. & Beta\\\\\n",
       "\\hline\n",
       "\t 946457(PI)\\textasciitilde{}E      &  0.002409486                       & -0.1748581                        \\\\\n",
       "\t 698783(PI)\\textasciitilde{}E      &  0.002955322                       & -0.3243972                        \\\\\n",
       "\t 690351(PI)\\textasciitilde{}E      & -0.001108431                       &  0.7889227                        \\\\\n",
       "\t 688027(PI)\\textasciitilde{}E      & -0.006647790                       &  2.3065046                        \\\\\n",
       "\t 866457(PI)\\textasciitilde{}E      &  0.009594083                       & -2.1431752                        \\\\\n",
       "\t 772959(PI)\\textasciitilde{}E      &  0.016322100                       & -3.9864058                        \\\\\n",
       "\t 772967(PI)\\textasciitilde{}E      &  0.005144319                       & -0.9241024                        \\\\\n",
       "\t 505967(PI)\\textasciitilde{}E      &  0.008411766                       & -1.8192634                        \\\\\n",
       "\t 729882(PI)\\textasciitilde{}E      & -0.021706697                       &  6.4320950                        \\\\\n",
       "\t 284310(PI)\\textasciitilde{}E      &  0.002139971                       & -0.1010207                        \\\\\n",
       "\t 505135(PI)\\textasciitilde{}E      & -0.012696716                       &  3.9636893                        \\\\\n",
       "\t 772753(PI)\\textasciitilde{}E      &  0.005329535                       & -0.9748448                        \\\\\n",
       "\t 772943(PI)\\textasciitilde{}E      & -0.005278573                       &  1.9313893                        \\\\\n",
       "\t 697173(PI)\\textasciitilde{}E      & -0.006066307                       &  2.1471994                        \\\\\n",
       "\t 719741(PI)\\textasciitilde{}E      & -0.002142192                       &  1.0721353                        \\\\\n",
       "\t 539717(PI)\\textasciitilde{}E      & -0.003552500                       &  1.4585082                        \\\\\n",
       "\t 772963(PI)\\textasciitilde{}E      &  0.014667281                       & -3.5330458                        \\\\\n",
       "\t Marktportefeuille & -0.001878889      &  1.0000000       \\\\\n",
       "\\end{tabular}\n"
      ],
      "text/markdown": [
       "\n",
       "Code | E.ri. | Beta | \n",
       "|---|---|---|---|---|---|---|---|---|---|---|---|---|---|---|---|---|---|\n",
       "| 946457(PI)~E      |  0.002409486      | -0.1748581        | \n",
       "| 698783(PI)~E      |  0.002955322      | -0.3243972        | \n",
       "| 690351(PI)~E      | -0.001108431      |  0.7889227        | \n",
       "| 688027(PI)~E      | -0.006647790      |  2.3065046        | \n",
       "| 866457(PI)~E      |  0.009594083      | -2.1431752        | \n",
       "| 772959(PI)~E      |  0.016322100      | -3.9864058        | \n",
       "| 772967(PI)~E      |  0.005144319      | -0.9241024        | \n",
       "| 505967(PI)~E      |  0.008411766      | -1.8192634        | \n",
       "| 729882(PI)~E      | -0.021706697      |  6.4320950        | \n",
       "| 284310(PI)~E      |  0.002139971      | -0.1010207        | \n",
       "| 505135(PI)~E      | -0.012696716      |  3.9636893        | \n",
       "| 772753(PI)~E      |  0.005329535      | -0.9748448        | \n",
       "| 772943(PI)~E      | -0.005278573      |  1.9313893        | \n",
       "| 697173(PI)~E      | -0.006066307      |  2.1471994        | \n",
       "| 719741(PI)~E      | -0.002142192      |  1.0721353        | \n",
       "| 539717(PI)~E      | -0.003552500      |  1.4585082        | \n",
       "| 772963(PI)~E      |  0.014667281      | -3.5330458        | \n",
       "| Marktportefeuille | -0.001878889      |  1.0000000        | \n",
       "\n",
       "\n"
      ],
      "text/plain": [
       "   Code              E.ri.        Beta      \n",
       "1  946457(PI)~E       0.002409486 -0.1748581\n",
       "2  698783(PI)~E       0.002955322 -0.3243972\n",
       "3  690351(PI)~E      -0.001108431  0.7889227\n",
       "4  688027(PI)~E      -0.006647790  2.3065046\n",
       "5  866457(PI)~E       0.009594083 -2.1431752\n",
       "6  772959(PI)~E       0.016322100 -3.9864058\n",
       "7  772967(PI)~E       0.005144319 -0.9241024\n",
       "8  505967(PI)~E       0.008411766 -1.8192634\n",
       "9  729882(PI)~E      -0.021706697  6.4320950\n",
       "10 284310(PI)~E       0.002139971 -0.1010207\n",
       "11 505135(PI)~E      -0.012696716  3.9636893\n",
       "12 772753(PI)~E       0.005329535 -0.9748448\n",
       "13 772943(PI)~E      -0.005278573  1.9313893\n",
       "14 697173(PI)~E      -0.006066307  2.1471994\n",
       "15 719741(PI)~E      -0.002142192  1.0721353\n",
       "16 539717(PI)~E      -0.003552500  1.4585082\n",
       "17 772963(PI)~E       0.014667281 -3.5330458\n",
       "18 Marktportefeuille -0.001878889  1.0000000"
      ]
     },
     "metadata": {},
     "output_type": "display_data"
    }
   ],
   "source": [
    "beta_df"
   ]
  },
  {
   "cell_type": "code",
   "execution_count": 4,
   "metadata": {},
   "outputs": [
    {
     "data": {
      "text/html": [
       "<table>\n",
       "<thead><tr><th scope=col>Code</th></tr></thead>\n",
       "<tbody>\n",
       "\t<tr><td>946457(PI)~E     </td></tr>\n",
       "\t<tr><td>698783(PI)~E     </td></tr>\n",
       "\t<tr><td>690351(PI)~E     </td></tr>\n",
       "\t<tr><td>688027(PI)~E     </td></tr>\n",
       "\t<tr><td>866457(PI)~E     </td></tr>\n",
       "\t<tr><td>772959(PI)~E     </td></tr>\n",
       "\t<tr><td>772967(PI)~E     </td></tr>\n",
       "\t<tr><td>505967(PI)~E     </td></tr>\n",
       "\t<tr><td>729882(PI)~E     </td></tr>\n",
       "\t<tr><td>284310(PI)~E     </td></tr>\n",
       "\t<tr><td>505135(PI)~E     </td></tr>\n",
       "\t<tr><td>772753(PI)~E     </td></tr>\n",
       "\t<tr><td>772943(PI)~E     </td></tr>\n",
       "\t<tr><td>697173(PI)~E     </td></tr>\n",
       "\t<tr><td>719741(PI)~E     </td></tr>\n",
       "\t<tr><td>539717(PI)~E     </td></tr>\n",
       "\t<tr><td>772963(PI)~E     </td></tr>\n",
       "\t<tr><td>Marktportefeuille</td></tr>\n",
       "</tbody>\n",
       "</table>\n"
      ],
      "text/latex": [
       "\\begin{tabular}{r|l}\n",
       " Code\\\\\n",
       "\\hline\n",
       "\t 946457(PI)\\textasciitilde{}E     \\\\\n",
       "\t 698783(PI)\\textasciitilde{}E     \\\\\n",
       "\t 690351(PI)\\textasciitilde{}E     \\\\\n",
       "\t 688027(PI)\\textasciitilde{}E     \\\\\n",
       "\t 866457(PI)\\textasciitilde{}E     \\\\\n",
       "\t 772959(PI)\\textasciitilde{}E     \\\\\n",
       "\t 772967(PI)\\textasciitilde{}E     \\\\\n",
       "\t 505967(PI)\\textasciitilde{}E     \\\\\n",
       "\t 729882(PI)\\textasciitilde{}E     \\\\\n",
       "\t 284310(PI)\\textasciitilde{}E     \\\\\n",
       "\t 505135(PI)\\textasciitilde{}E     \\\\\n",
       "\t 772753(PI)\\textasciitilde{}E     \\\\\n",
       "\t 772943(PI)\\textasciitilde{}E     \\\\\n",
       "\t 697173(PI)\\textasciitilde{}E     \\\\\n",
       "\t 719741(PI)\\textasciitilde{}E     \\\\\n",
       "\t 539717(PI)\\textasciitilde{}E     \\\\\n",
       "\t 772963(PI)\\textasciitilde{}E     \\\\\n",
       "\t Marktportefeuille\\\\\n",
       "\\end{tabular}\n"
      ],
      "text/markdown": [
       "\n",
       "Code | \n",
       "|---|---|---|---|---|---|---|---|---|---|---|---|---|---|---|---|---|---|\n",
       "| 946457(PI)~E      | \n",
       "| 698783(PI)~E      | \n",
       "| 690351(PI)~E      | \n",
       "| 688027(PI)~E      | \n",
       "| 866457(PI)~E      | \n",
       "| 772959(PI)~E      | \n",
       "| 772967(PI)~E      | \n",
       "| 505967(PI)~E      | \n",
       "| 729882(PI)~E      | \n",
       "| 284310(PI)~E      | \n",
       "| 505135(PI)~E      | \n",
       "| 772753(PI)~E      | \n",
       "| 772943(PI)~E      | \n",
       "| 697173(PI)~E      | \n",
       "| 719741(PI)~E      | \n",
       "| 539717(PI)~E      | \n",
       "| 772963(PI)~E      | \n",
       "| Marktportefeuille | \n",
       "\n",
       "\n"
      ],
      "text/plain": [
       "   Code             \n",
       "1  946457(PI)~E     \n",
       "2  698783(PI)~E     \n",
       "3  690351(PI)~E     \n",
       "4  688027(PI)~E     \n",
       "5  866457(PI)~E     \n",
       "6  772959(PI)~E     \n",
       "7  772967(PI)~E     \n",
       "8  505967(PI)~E     \n",
       "9  729882(PI)~E     \n",
       "10 284310(PI)~E     \n",
       "11 505135(PI)~E     \n",
       "12 772753(PI)~E     \n",
       "13 772943(PI)~E     \n",
       "14 697173(PI)~E     \n",
       "15 719741(PI)~E     \n",
       "16 539717(PI)~E     \n",
       "17 772963(PI)~E     \n",
       "18 Marktportefeuille"
      ]
     },
     "metadata": {},
     "output_type": "display_data"
    }
   ],
   "source": [
    "code_df = beta_df[\"Code\"]\n",
    "code_df"
   ]
  },
  {
   "cell_type": "markdown",
   "metadata": {},
   "source": [
    "Plotten\n",
    "---\n",
    "___\n",
    "Met behulp van het package `ggplot2`, kunnen we een plot maken van de data, en de plot voorzien van de nodige informatie. In de volgende code is tevens het commando `stat_smooth()` toegevoegd, om een lijn door de datawolk te interpoleren. Aangezien de data punten een perfecte lijn vormen, is er geen standaard error vlak om de lijn heen. Dit komt overeen met de theorie uit de hoorcolleges waarin we kunnen vinden dat de beta's samen een lijn, namelijk de SML vormen. Echter is de SML in deze plot dalend...?\n",
    "___"
   ]
  },
  {
   "cell_type": "code",
   "execution_count": 10,
   "metadata": {},
   "outputs": [],
   "source": [
    "plot <- ggplot(beta_df, aes(Beta, E.ri.)) +\n",
    "stat_smooth(method = 'lm') +\n",
    "geom_point(col = \"darkred\") +\n",
    "geom_label_repel(aes(label = code_df), size = 2) +\n",
    "scale_y_continuous(\"Expected Rate of Returns (E(ri))\",\n",
    "                   limits = c(-0.025, 0.0175)) +\n",
    "scale_x_continuous(\"Beta\",\n",
    "                   limits = c(-3.75, 6.5)) +\n",
    "theme_bw() +\n",
    "theme(panel.grid.major = element_line(size = 0.5, linetype = 'solid',\n",
    "                                     colour = \"lightblue\"),\n",
    "      panel.grid.minor = element_line(size = 0.1, linetype = 'dashed')) +\n",
    "ggtitle(\"Security Market Line\")"
   ]
  },
  {
   "cell_type": "code",
   "execution_count": 11,
   "metadata": {},
   "outputs": [
    {
     "name": "stderr",
     "output_type": "stream",
     "text": [
      "Don't know how to automatically pick scale for object of type data.frame. Defaulting to continuous.\n",
      "Warning message:\n",
      "\"Removed 1 rows containing non-finite values (stat_smooth).\"Warning message:\n",
      "\"Removed 1 rows containing missing values (geom_point).\"Warning message:\n",
      "\"Removed 1 rows containing missing values (geom_label_repel).\""
     ]
    },
    {
     "data": {},
     "metadata": {},
     "output_type": "display_data"
    },
    {
     "data": {
      "image/png": "[encoded data removed]",
      "text/plain": [
       "plot without title"
      ]
     },
     "metadata": {},
     "output_type": "display_data"
    }
   ],
   "source": [
    "plot"
   ]
  },
  {
   "cell_type": "code",
   "execution_count": 12,
   "metadata": {},
   "outputs": [
    {
     "name": "stderr",
     "output_type": "stream",
     "text": [
      "Saving 6.67 x 6.67 in image\n",
      "Don't know how to automatically pick scale for object of type data.frame. Defaulting to continuous.\n",
      "Warning message:\n",
      "\"Removed 1 rows containing non-finite values (stat_smooth).\"Warning message:\n",
      "\"Removed 1 rows containing missing values (geom_point).\"Warning message:\n",
      "\"Removed 1 rows containing missing values (geom_label_repel).\""
     ]
    }
   ],
   "source": [
    "ggsave(\"Security Market Line.jpg\")"
   ]
  }
 ],
 "metadata": {
  "kernelspec": {
   "display_name": "R",
   "language": "R",
   "name": "ir"
  },
  "language_info": {
   "codemirror_mode": "r",
   "file_extension": ".r",
   "mimetype": "text/x-r-source",
   "name": "R",
   "pygments_lexer": "r",
   "version": "3.4.3"
  }
 },
 "nbformat": 4,
 "nbformat_minor": 2
}
